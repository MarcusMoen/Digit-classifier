{
 "cells": [
  {
   "cell_type": "code",
   "execution_count": 1,
   "metadata": {},
   "outputs": [],
   "source": [
    "import xlrd\n",
    "import pandas as pd\n",
    "import seaborn as sns\n",
    "import matplotlib.pyplot as plt\n",
    "import numpy as np\n",
    "import sklearn as sk\n",
    "from sklearn.tree import DecisionTreeClassifier\n",
    "from sklearn.neighbors import KNeighborsClassifier\n",
    "from sklearn.metrics import mean_squared_error\n",
    "from sklearn.neighbors import KNeighborsRegressor\n",
    "from sklearn.model_selection import train_test_split\n",
    "import json\n",
    "from pandas.io.json import json_normalize\n",
    "from os import path, makedirs"
   ]
  },
  {
   "cell_type": "markdown",
   "metadata": {},
   "source": [
    "## Cleaning the film.xlsx file"
   ]
  },
  {
   "cell_type": "code",
   "execution_count": 2,
   "metadata": {},
   "outputs": [
    {
     "name": "stdout",
     "output_type": "stream",
     "text": [
      "FilmID         0\n",
      "Tittel         0\n",
      "Action         0\n",
      "Adventure      0\n",
      "Animation      0\n",
      "Children       0\n",
      "Children's     0\n",
      "Comedy         0\n",
      "Crime          0\n",
      "Documentary    0\n",
      "Drama          0\n",
      "Fantasy        0\n",
      "Film-Noir      0\n",
      "Horror         0\n",
      "Musical        0\n",
      "Mystery        0\n",
      "Romance        0\n",
      "Sci-Fi         0\n",
      "Thriller       0\n",
      "War            0\n",
      "Western        0\n",
      "dtype: int64\n",
      "   FilmID                                    Tittel  Action  Adventure  \\\n",
      "0       0                 Autumn in New York (2000)       0          0   \n",
      "1       1  Vie est belle, La (Life is Rosey) (1987)       0          0   \n",
      "2       2                    Defying Gravity (1997)       0          0   \n",
      "3       3                    Ruthless People (1986)       0          0   \n",
      "4       4                  Portraits Chinois (1996)       0          0   \n",
      "\n",
      "   Animation  Children  Children's  Comedy  Crime  Documentary  ...  Fantasy  \\\n",
      "0          0         0           0       0      0            0  ...        0   \n",
      "1          0         0           0       1      0            0  ...        0   \n",
      "2          0         0           0       0      0            0  ...        0   \n",
      "3          0         0           0       1      0            0  ...        0   \n",
      "4          0         0           0       0      0            0  ...        0   \n",
      "\n",
      "   Film-Noir  Horror  Musical  Mystery  Romance  Sci-Fi  Thriller  War  \\\n",
      "0          0       0        0        0        1       0         0    0   \n",
      "1          0       0        0        0        0       0         0    0   \n",
      "2          0       0        0        0        0       0         0    0   \n",
      "3          0       0        0        0        0       0         0    0   \n",
      "4          0       0        0        0        0       0         0    0   \n",
      "\n",
      "   Western  \n",
      "0        0  \n",
      "1        0  \n",
      "2        0  \n",
      "3        0  \n",
      "4        0  \n",
      "\n",
      "[5 rows x 21 columns]\n"
     ]
    }
   ],
   "source": [
    "ExcelFile = pd.ExcelFile('film.xlsx')\n",
    "\n",
    "film = ExcelFile.parse('film') # Download the file\n",
    "\n",
    "sjanger = film['Sjanger'].str.get_dummies() # Extract the sjanger column and makes it to a matrix\n",
    "\n",
    "film = pd.concat([film.drop(['Sjanger'], axis=1), sjanger], axis=1).drop(['Unnamed: 0', 'Ukjennt'], axis=1) # Merges the film and sjanger matrix\n",
    "\n",
    "print(film.isnull().sum())\n",
    "print(film.head())"
   ]
  },
  {
   "cell_type": "markdown",
   "metadata": {},
   "source": [
    "## Cleaning the bruker.json file"
   ]
  },
  {
   "cell_type": "code",
   "execution_count": 3,
   "metadata": {},
   "outputs": [
    {
     "name": "stdout",
     "output_type": "stream",
     "text": [
      "BrukerID      0\n",
      "Kjonn       303\n",
      "Alder       994\n",
      "Jobb        593\n",
      "Postkode    451\n",
      "dtype: int64\n",
      "   BrukerID Kjonn  Alder  Jobb    Postkode\n",
      "0         0     U     45     6       92103\n",
      "1         1     M     50    16  55405-2546\n",
      "2         2     M     18    20       44089\n",
      "3         3     M      0     1       33304\n",
      "4         4     M     35     6       48105\n"
     ]
    }
   ],
   "source": [
    "with open('bruker.json') as json_data:\n",
    "    data = json.load(json_data) # Download the json file\n",
    "\n",
    "data1 = pd.DataFrame.from_dict(data, orient='index')\n",
    "\n",
    "bruker = pd.DataFrame(data.pop('data'), columns = list(data.items())[0][1]) # Makes the data into a DataFrame\n",
    "\n",
    "print(bruker.isnull().sum()) # Checking for null values\n",
    "\n",
    "#bruker = bruker.dropna()\n",
    "\n",
    "#print(bruker.isnull().any().any())\n",
    "\n",
    "bruker['Kjonn'].fillna('U', inplace = True) # Fill every null values with U for unknown\n",
    "bruker['Alder'].fillna(0, inplace = True) # Fill every null values with a new value 0\n",
    "bruker['Jobb'].fillna(0, inplace = True) # Fill every null values with a 0\n",
    "bruker['Postkode'].fillna(0, inplace = True) # Fill every null values with a new value 0\n",
    "\n",
    "bruker = bruker.astype({'Alder':'int64', 'Jobb':'int64'}) # Change the values to int values\n",
    "\n",
    "print(bruker.head())"
   ]
  },
  {
   "cell_type": "markdown",
   "metadata": {},
   "source": [
    "In this file we have som null values in kjonn, alder, jobb and postkode. Since none of these columns are used in our models and predictions this will not be a problem. I have filled the null values with some other values, see the code above for details."
   ]
  },
  {
   "cell_type": "markdown",
   "metadata": {},
   "source": [
    "## Cleaning the rangering.dat file"
   ]
  },
  {
   "cell_type": "code",
   "execution_count": 4,
   "metadata": {},
   "outputs": [
    {
     "name": "stderr",
     "output_type": "stream",
     "text": [
      "<ipython-input-4-5253f71aa4f1>:1: ParserWarning: Falling back to the 'python' engine because the 'c' engine does not support regex separators (separators > 1 char and different from '\\s+' are interpreted as regex); you can avoid this warning by specifying engine='python'.\n",
      "  rangering_dat = pd.read_csv('rangering.dat', sep='::', names=['BrukerID', 'FilmID', 'Rangering', 'Tidstempel']) # Loading the rangering file to a csv file\n"
     ]
    },
    {
     "name": "stdout",
     "output_type": "stream",
     "text": [
      "BrukerID         0\n",
      "FilmID           0\n",
      "Rangering        0\n",
      "Tidstempel    1492\n",
      "dtype: int64\n",
      "BrukerID      0\n",
      "FilmID        0\n",
      "Rangering     0\n",
      "Tidstempel    0\n",
      "dtype: int64\n"
     ]
    },
    {
     "name": "stderr",
     "output_type": "stream",
     "text": [
      "<ipython-input-4-5253f71aa4f1>:9: SettingWithCopyWarning: \n",
      "A value is trying to be set on a copy of a slice from a DataFrame.\n",
      "Try using .loc[row_indexer,col_indexer] = value instead\n",
      "\n",
      "See the caveats in the documentation: https://pandas.pydata.org/pandas-docs/stable/user_guide/indexing.html#returning-a-view-versus-a-copy\n",
      "  rangering_før['Rangering'] = rangering_før['Rangering'] /2 # Divides all the ratings before 2000 by 2 such that we get them in the form 1-5.\n"
     ]
    }
   ],
   "source": [
    "rangering_dat = pd.read_csv('rangering.dat', sep='::', names=['BrukerID', 'FilmID', 'Rangering', 'Tidstempel']) # Loading the rangering file to a csv file\n",
    "\n",
    "print(rangering_dat.isnull().sum())\n",
    "rangering = rangering_dat.dropna() # Remove every column with null values\n",
    "print(rangering.isnull().sum())\n",
    "\n",
    "rangering_etter = rangering[rangering['Tidstempel'] > 965088000] # Stores all the rows with ratings after 2000\n",
    "rangering_før = rangering[rangering['Tidstempel'] < 965088000] # Stores all the rows with ratings before 2000 \n",
    "rangering_før['Rangering'] = rangering_før['Rangering'] /2 # Divides all the ratings before 2000 by 2 such that we get them in the form 1-5.\n",
    "\n",
    "rangering = pd.concat([rangering_før, rangering_etter]) # Takes the ratings befor 2000 and combine it with the ratings from after 2000, and drops the column tidsstempel\n"
   ]
  },
  {
   "cell_type": "markdown",
   "metadata": {},
   "source": [
    "We can see that the column Tidsstempel has 1492 null values. This is a problem since we have to know if the ratings was before or after 2000. Since there are no way of figuring out these values I have decided to remove all these rows. We could have kept the rows which ratings was above 5, but I decided against this because we would then only have taken the good ratings and not the bad ones."
   ]
  },
  {
   "cell_type": "markdown",
   "metadata": {},
   "source": [
    "## Saving the new DataFrames as csv"
   ]
  },
  {
   "cell_type": "code",
   "execution_count": 5,
   "metadata": {},
   "outputs": [
    {
     "name": "stdout",
     "output_type": "stream",
     "text": [
      "\n"
     ]
    }
   ],
   "source": [
    "if path.exists('cleandata'):\n",
    "    print()\n",
    "else:\n",
    "    makedirs('cleandata')\n",
    "\n",
    "\n",
    "film.to_csv('cleandata/film.csv', index=False)\n",
    "bruker.to_csv('cleandata/bruker.csv', index=False)\n",
    "rangering.to_csv('cleandata/rangering.csv', index=False)"
   ]
  },
  {
   "cell_type": "code",
   "execution_count": null,
   "metadata": {},
   "outputs": [],
   "source": []
  }
 ],
 "metadata": {
  "kernelspec": {
   "display_name": "Python 3",
   "language": "python",
   "name": "python3"
  },
  "language_info": {
   "codemirror_mode": {
    "name": "ipython",
    "version": 3
   },
   "file_extension": ".py",
   "mimetype": "text/x-python",
   "name": "python",
   "nbconvert_exporter": "python",
   "pygments_lexer": "ipython3",
   "version": "3.8.3"
  }
 },
 "nbformat": 4,
 "nbformat_minor": 4
}
